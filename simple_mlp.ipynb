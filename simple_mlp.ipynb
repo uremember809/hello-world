{
  "nbformat": 4,
  "nbformat_minor": 0,
  "metadata": {
    "colab": {
      "name": "simple_mlp.ipynb",
      "version": "0.3.2",
      "provenance": [],
      "include_colab_link": true
    },
    "kernelspec": {
      "name": "python3",
      "display_name": "Python 3"
    }
  },
  "cells": [
    {
      "cell_type": "markdown",
      "metadata": {
        "id": "view-in-github",
        "colab_type": "text"
      },
      "source": [
        "[View in Colaboratory](https://colab.research.google.com/github/uremember809/hello-world/blob/master/simple_mlp.ipynb)"
      ]
    },
    {
      "metadata": {
        "id": "1QbkANeWNnC3",
        "colab_type": "code",
        "colab": {}
      },
      "cell_type": "code",
      "source": [
        "import tensorflow.keras as keras"
      ],
      "execution_count": 0,
      "outputs": []
    },
    {
      "metadata": {
        "id": "I6xnkhaFBd-M",
        "colab_type": "text"
      },
      "cell_type": "markdown",
      "source": [
        "# New Section"
      ]
    },
    {
      "metadata": {
        "id": "Yb_pbapkCj1b",
        "colab_type": "code",
        "colab": {
          "base_uri": "https://localhost:8080/",
          "height": 53
        },
        "outputId": "b4f045de-06c0-47ea-af97-92a0be78082a"
      },
      "cell_type": "code",
      "source": [
        "# Install the PyDrive wrapper & import libraries.\n",
        "# This only needs to be done once per notebook.\n",
        "!pip install -U -q PyDrive\n",
        "from pydrive.auth import GoogleAuth\n",
        "from pydrive.drive import GoogleDrive\n",
        "from google.colab import auth\n",
        "from oauth2client.client import GoogleCredentials\n",
        "\n",
        "# Authenticate and create the PyDrive client.\n",
        "# This only needs to be done once per notebook.\n",
        "auth.authenticate_user()\n",
        "gauth = GoogleAuth()\n",
        "gauth.credentials = GoogleCredentials.get_application_default()\n",
        "drive = GoogleDrive(gauth)\n",
        "\n",
        "# List .txt files in the root.\n",
        "#\n",
        "# Search query reference:\n",
        "# https://developers.google.com/drive/v2/web/search-parameters\n",
        "listed = drive.ListFile({'q': \"title contains '.txt' and 'root' in parents\"}).GetList()\n",
        "for file in listed:\n",
        "  print('title {}, id {}'.format(file['title'], file['id']))"
      ],
      "execution_count": 32,
      "outputs": [
        {
          "output_type": "stream",
          "text": [
            "title tnt.txt, id 0Bwix1-HHBCMJY0YxcS1rZW5LRlk\n",
            "title 57488.txt, id 0Bwix1-HHBCMJUnE3SjBNVUUycms\n"
          ],
          "name": "stdout"
        }
      ]
    },
    {
      "metadata": {
        "id": "Sp7bxhohNx70",
        "colab_type": "code",
        "colab": {}
      },
      "cell_type": "code",
      "source": [
        "(x_train, y_train), (x_test, y_test) = keras.datasets.mnist.load_data()"
      ],
      "execution_count": 0,
      "outputs": []
    },
    {
      "metadata": {
        "id": "HAx5KAwYOKO3",
        "colab_type": "code",
        "colab": {}
      },
      "cell_type": "code",
      "source": [
        "import matplotlib.pyplot as plt"
      ],
      "execution_count": 0,
      "outputs": []
    },
    {
      "metadata": {
        "id": "dxOePnFTOTVP",
        "colab_type": "code",
        "colab": {
          "base_uri": "https://localhost:8080/",
          "height": 35
        },
        "outputId": "46fc7bee-03d2-42e5-e603-9d3db0f39119"
      },
      "cell_type": "code",
      "source": [
        "print(x_train.shape)"
      ],
      "execution_count": 35,
      "outputs": [
        {
          "output_type": "stream",
          "text": [
            "(60000, 28, 28)\n"
          ],
          "name": "stdout"
        }
      ]
    },
    {
      "metadata": {
        "id": "M0BxyOnePe1L",
        "colab_type": "code",
        "colab": {}
      },
      "cell_type": "code",
      "source": [
        "from itertools import count"
      ],
      "execution_count": 0,
      "outputs": []
    },
    {
      "metadata": {
        "id": "2mim5AnePME_",
        "colab_type": "code",
        "colab": {}
      },
      "cell_type": "code",
      "source": [
        "def num_gen():\n",
        "  for i in count():\n",
        "    yield i"
      ],
      "execution_count": 0,
      "outputs": []
    },
    {
      "metadata": {
        "id": "jvB2aKgdQfVO",
        "colab_type": "code",
        "colab": {}
      },
      "cell_type": "code",
      "source": [
        "gen = num_gen()"
      ],
      "execution_count": 0,
      "outputs": []
    },
    {
      "metadata": {
        "id": "NEZ8GYPGQ2Db",
        "colab_type": "code",
        "colab": {
          "base_uri": "https://localhost:8080/",
          "height": 35
        },
        "outputId": "4d8be31b-760e-4188-dd16-1629a193665a"
      },
      "cell_type": "code",
      "source": [
        "print(next(gen))"
      ],
      "execution_count": 39,
      "outputs": [
        {
          "output_type": "stream",
          "text": [
            "0\n"
          ],
          "name": "stdout"
        }
      ]
    },
    {
      "metadata": {
        "id": "_4wjYTdMOhoZ",
        "colab_type": "code",
        "colab": {
          "base_uri": "https://localhost:8080/",
          "height": 1478
        },
        "outputId": "c7c4721e-441d-4395-aa68-1999153ea5b0"
      },
      "cell_type": "code",
      "source": [
        "f, a = plt.subplots(10, 10, figsize= (26, 26))\n",
        "for i in range(10):\n",
        "  for j in range(10):\n",
        "    n = next(gen)\n",
        "    a[i,j].set(xlabel = y_train[n], xticks=[], yticks=[])\n",
        "    a[i,j].imshow(x_train[n], 'Blues')\n",
        "  "
      ],
      "execution_count": 40,
      "outputs": [
        {
          "output_type": "display_data",
          "data": {
            "image/png": "[encoded data removed]",
            "text/plain": [
              "<matplotlib.figure.Figure at 0x7f3d0c994e48>"
            ]
          },
          "metadata": {
            "tags": []
          }
        }
      ]
    },
    {
      "metadata": {
        "id": "jOIo3JDnPJUP",
        "colab_type": "code",
        "colab": {}
      },
      "cell_type": "code",
      "source": [
        "x_train = x_train.reshape(-1, 28*28)\n",
        "x_test = x_test.reshape(-1, 28*28)"
      ],
      "execution_count": 0,
      "outputs": []
    },
    {
      "metadata": {
        "id": "fPMyZQG6O4eO",
        "colab_type": "code",
        "colab": {}
      },
      "cell_type": "code",
      "source": [
        "x_train = x_train.astype(float)/255\n",
        "x_test = x_test.astype(float)/255"
      ],
      "execution_count": 0,
      "outputs": []
    },
    {
      "metadata": {
        "id": "HnmDJEa6Sw3f",
        "colab_type": "code",
        "colab": {
          "base_uri": "https://localhost:8080/",
          "height": 35
        },
        "outputId": "d2e5068f-6ad3-4ecd-8ace-7e81fa81d586"
      },
      "cell_type": "code",
      "source": [
        "print(x_train.shape)"
      ],
      "execution_count": 43,
      "outputs": [
        {
          "output_type": "stream",
          "text": [
            "(60000, 784)\n"
          ],
          "name": "stdout"
        }
      ]
    },
    {
      "metadata": {
        "id": "wX9S6nHTS2b8",
        "colab_type": "code",
        "colab": {}
      },
      "cell_type": "code",
      "source": [
        "y_train = keras.utils.to_categorical(y_train, 10)\n",
        "y_test = keras.utils.to_categorical(y_test, 10)"
      ],
      "execution_count": 0,
      "outputs": []
    },
    {
      "metadata": {
        "id": "ggAH1K3fTFdB",
        "colab_type": "code",
        "colab": {
          "base_uri": "https://localhost:8080/",
          "height": 35
        },
        "outputId": "b1d4767b-ffe9-41d6-b6ea-4fdd1af76f75"
      },
      "cell_type": "code",
      "source": [
        "print(y_test.shape)"
      ],
      "execution_count": 45,
      "outputs": [
        {
          "output_type": "stream",
          "text": [
            "(10000, 10)\n"
          ],
          "name": "stdout"
        }
      ]
    },
    {
      "metadata": {
        "id": "C8YGeUz9TJXz",
        "colab_type": "code",
        "colab": {}
      },
      "cell_type": "code",
      "source": [
        "model = keras.models.Sequential()"
      ],
      "execution_count": 0,
      "outputs": []
    },
    {
      "metadata": {
        "id": "cGdWACqnTTgd",
        "colab_type": "code",
        "colab": {}
      },
      "cell_type": "code",
      "source": [
        "model.add(keras.layers.Dense(64, input_shape = (784,), activation='relu'))\n",
        "model.add(keras.layers.Dense(128, activation='relu'))\n",
        "model.add(keras.layers.Dense(128, activation='relu'))\n",
        "model.add(keras.layers.Dense(10, activation='softmax'))"
      ],
      "execution_count": 0,
      "outputs": []
    },
    {
      "metadata": {
        "id": "DL-7C37ZT0Vy",
        "colab_type": "code",
        "colab": {
          "base_uri": "https://localhost:8080/",
          "height": 287
        },
        "outputId": "292d1441-030c-428c-f59a-cac200125a79"
      },
      "cell_type": "code",
      "source": [
        "model.summary()"
      ],
      "execution_count": 67,
      "outputs": [
        {
          "output_type": "stream",
          "text": [
            "_________________________________________________________________\n",
            "Layer (type)                 Output Shape              Param #   \n",
            "=================================================================\n",
            "dense_6 (Dense)              (None, 64)                50240     \n",
            "_________________________________________________________________\n",
            "dense_7 (Dense)              (None, 128)               8320      \n",
            "_________________________________________________________________\n",
            "dense_8 (Dense)              (None, 128)               16512     \n",
            "_________________________________________________________________\n",
            "dense_9 (Dense)              (None, 10)                1290      \n",
            "=================================================================\n",
            "Total params: 76,362\n",
            "Trainable params: 76,362\n",
            "Non-trainable params: 0\n",
            "_________________________________________________________________\n"
          ],
          "name": "stdout"
        }
      ]
    },
    {
      "metadata": {
        "id": "3F436P3LT2kH",
        "colab_type": "code",
        "colab": {}
      },
      "cell_type": "code",
      "source": [
        "model.compile(    loss=keras.losses.categorical_crossentropy,\n",
        "    optimizer=keras.optimizers.Adadelta(),\n",
        "    metrics=[\"accuracy\"],\n",
        ")"
      ],
      "execution_count": 0,
      "outputs": []
    },
    {
      "metadata": {
        "id": "XB3brlVRUSVT",
        "colab_type": "code",
        "colab": {
          "base_uri": "https://localhost:8080/",
          "height": 1133
        },
        "outputId": "163d7638-9c79-4043-bdcb-ccc453cdd028"
      },
      "cell_type": "code",
      "source": [
        "model.fit(x_train, y_train, epochs=30, batch_size=128, validation_data=(x_test, y_test))"
      ],
      "execution_count": 69,
      "outputs": [
        {
          "output_type": "stream",
          "text": [
            "Train on 60000 samples, validate on 10000 samples\n",
            "Epoch 1/30\n",
            "60000/60000 [==============================] - 3s 53us/step - loss: 0.3530 - acc: 0.8909 - val_loss: 0.1633 - val_acc: 0.9488\n",
            "Epoch 2/30\n",
            "60000/60000 [==============================] - 3s 47us/step - loss: 0.1360 - acc: 0.9589 - val_loss: 0.1201 - val_acc: 0.9625\n",
            "Epoch 3/30\n",
            "60000/60000 [==============================] - 3s 46us/step - loss: 0.0980 - acc: 0.9698 - val_loss: 0.1020 - val_acc: 0.9674\n",
            "Epoch 4/30\n",
            "60000/60000 [==============================] - 3s 45us/step - loss: 0.0768 - acc: 0.9759 - val_loss: 0.1125 - val_acc: 0.9647\n",
            "Epoch 5/30\n",
            "60000/60000 [==============================] - 3s 46us/step - loss: 0.0617 - acc: 0.9803 - val_loss: 0.0808 - val_acc: 0.9762\n",
            "Epoch 6/30\n",
            "60000/60000 [==============================] - 3s 45us/step - loss: 0.0523 - acc: 0.9839 - val_loss: 0.0873 - val_acc: 0.9746\n",
            "Epoch 7/30\n",
            "60000/60000 [==============================] - 2s 40us/step - loss: 0.0437 - acc: 0.9863 - val_loss: 0.0763 - val_acc: 0.9772\n",
            "Epoch 8/30\n",
            "60000/60000 [==============================] - 2s 40us/step - loss: 0.0366 - acc: 0.9888 - val_loss: 0.0779 - val_acc: 0.9774\n",
            "Epoch 9/30\n",
            "60000/60000 [==============================] - 2s 40us/step - loss: 0.0308 - acc: 0.9906 - val_loss: 0.0790 - val_acc: 0.9770\n",
            "Epoch 10/30\n",
            "60000/60000 [==============================] - 2s 40us/step - loss: 0.0264 - acc: 0.9921 - val_loss: 0.0807 - val_acc: 0.9773\n",
            "Epoch 11/30\n",
            "60000/60000 [==============================] - 2s 38us/step - loss: 0.0225 - acc: 0.9929 - val_loss: 0.0777 - val_acc: 0.9785\n",
            "Epoch 12/30\n",
            "60000/60000 [==============================] - 2s 39us/step - loss: 0.0190 - acc: 0.9944 - val_loss: 0.0819 - val_acc: 0.9776\n",
            "Epoch 13/30\n",
            "60000/60000 [==============================] - 2s 40us/step - loss: 0.0157 - acc: 0.9957 - val_loss: 0.0894 - val_acc: 0.9779\n",
            "Epoch 14/30\n",
            "60000/60000 [==============================] - 2s 40us/step - loss: 0.0141 - acc: 0.9956 - val_loss: 0.0945 - val_acc: 0.9786\n",
            "Epoch 15/30\n",
            "60000/60000 [==============================] - 2s 40us/step - loss: 0.0107 - acc: 0.9970 - val_loss: 0.0935 - val_acc: 0.9776\n",
            "Epoch 16/30\n",
            "60000/60000 [==============================] - 2s 39us/step - loss: 0.0103 - acc: 0.9971 - val_loss: 0.0949 - val_acc: 0.9778\n",
            "Epoch 17/30\n",
            "60000/60000 [==============================] - 2s 38us/step - loss: 0.0083 - acc: 0.9976 - val_loss: 0.0937 - val_acc: 0.9796\n",
            "Epoch 18/30\n",
            "60000/60000 [==============================] - 2s 39us/step - loss: 0.0072 - acc: 0.9981 - val_loss: 0.0956 - val_acc: 0.9796\n",
            "Epoch 19/30\n",
            "60000/60000 [==============================] - 2s 40us/step - loss: 0.0059 - acc: 0.9985 - val_loss: 0.0989 - val_acc: 0.9791\n",
            "Epoch 20/30\n",
            "60000/60000 [==============================] - 2s 41us/step - loss: 0.0051 - acc: 0.9985 - val_loss: 0.1044 - val_acc: 0.9779\n",
            "Epoch 21/30\n",
            "60000/60000 [==============================] - 2s 40us/step - loss: 0.0042 - acc: 0.9988 - val_loss: 0.1104 - val_acc: 0.9778\n",
            "Epoch 22/30\n",
            "60000/60000 [==============================] - 2s 40us/step - loss: 0.0038 - acc: 0.9991 - val_loss: 0.1040 - val_acc: 0.9794\n",
            "Epoch 23/30\n",
            "60000/60000 [==============================] - 2s 40us/step - loss: 0.0031 - acc: 0.9993 - val_loss: 0.1176 - val_acc: 0.9766\n",
            "Epoch 24/30\n",
            "60000/60000 [==============================] - 2s 40us/step - loss: 0.0028 - acc: 0.9993 - val_loss: 0.1111 - val_acc: 0.9798\n",
            "Epoch 25/30\n",
            "60000/60000 [==============================] - 2s 40us/step - loss: 0.0023 - acc: 0.9994 - val_loss: 0.1072 - val_acc: 0.9795\n",
            "Epoch 26/30\n",
            "60000/60000 [==============================] - 2s 39us/step - loss: 0.0017 - acc: 0.9997 - val_loss: 0.1182 - val_acc: 0.9787\n",
            "Epoch 27/30\n",
            "60000/60000 [==============================] - 2s 39us/step - loss: 0.0017 - acc: 0.9997 - val_loss: 0.1111 - val_acc: 0.9804\n",
            "Epoch 28/30\n",
            "60000/60000 [==============================] - 2s 40us/step - loss: 0.0015 - acc: 0.9997 - val_loss: 0.1133 - val_acc: 0.9806\n",
            "Epoch 29/30\n",
            "60000/60000 [==============================] - 2s 42us/step - loss: 0.0013 - acc: 0.9998 - val_loss: 0.1154 - val_acc: 0.9796\n",
            "Epoch 30/30\n",
            "60000/60000 [==============================] - 2s 40us/step - loss: 0.0011 - acc: 0.9998 - val_loss: 0.1137 - val_acc: 0.9800\n"
          ],
          "name": "stdout"
        },
        {
          "output_type": "execute_result",
          "data": {
            "text/plain": [
              "<tensorflow.python.keras.callbacks.History at 0x7f3d17b4ecf8>"
            ]
          },
          "metadata": {
            "tags": []
          },
          "execution_count": 69
        }
      ]
    },
    {
      "metadata": {
        "id": "kX4dgSszUoil",
        "colab_type": "code",
        "colab": {
          "base_uri": "https://localhost:8080/",
          "height": 35
        },
        "outputId": "79a14484-932c-4fcd-9fa8-29b226d8baff"
      },
      "cell_type": "code",
      "source": [
        "pwd"
      ],
      "execution_count": 51,
      "outputs": [
        {
          "output_type": "execute_result",
          "data": {
            "text/plain": [
              "'/content/sample_data'"
            ]
          },
          "metadata": {
            "tags": []
          },
          "execution_count": 51
        }
      ]
    },
    {
      "metadata": {
        "id": "wdWDcgrDV5nv",
        "colab_type": "code",
        "colab": {
          "base_uri": "https://localhost:8080/",
          "height": 71
        },
        "outputId": "5ed62c7a-346e-46ba-b04c-c1f0689733cc"
      },
      "cell_type": "code",
      "source": [
        "ls"
      ],
      "execution_count": 52,
      "outputs": [
        {
          "output_type": "stream",
          "text": [
            "\u001b[0m\u001b[01;32manscombe.json\u001b[0m*                mnist_test.csv\n",
            "california_housing_test.csv   mnist_train_small.csv\n",
            "california_housing_train.csv  \u001b[01;32mREADME.md\u001b[0m*\n"
          ],
          "name": "stdout"
        }
      ]
    },
    {
      "metadata": {
        "id": "aK1dH2i7V7F8",
        "colab_type": "code",
        "colab": {
          "base_uri": "https://localhost:8080/",
          "height": 53
        },
        "outputId": "9addff1c-9a52-4587-b811-84beb812fd44"
      },
      "cell_type": "code",
      "source": [
        "cd sample_data/\n"
      ],
      "execution_count": 53,
      "outputs": [
        {
          "output_type": "stream",
          "text": [
            "[Errno 2] No such file or directory: 'sample_data/'\n",
            "/content/sample_data\n"
          ],
          "name": "stdout"
        }
      ]
    },
    {
      "metadata": {
        "id": "zbjX8hCzV-SQ",
        "colab_type": "code",
        "colab": {
          "base_uri": "https://localhost:8080/",
          "height": 71
        },
        "outputId": "77249ec1-d063-413d-9f5c-5d367174bb2c"
      },
      "cell_type": "code",
      "source": [
        "ls"
      ],
      "execution_count": 54,
      "outputs": [
        {
          "output_type": "stream",
          "text": [
            "\u001b[0m\u001b[01;32manscombe.json\u001b[0m*                mnist_test.csv\n",
            "california_housing_test.csv   mnist_train_small.csv\n",
            "california_housing_train.csv  \u001b[01;32mREADME.md\u001b[0m*\n"
          ],
          "name": "stdout"
        }
      ]
    },
    {
      "metadata": {
        "id": "RXbwkQxiV_Hl",
        "colab_type": "code",
        "colab": {}
      },
      "cell_type": "code",
      "source": [
        "import sklearn"
      ],
      "execution_count": 0,
      "outputs": []
    },
    {
      "metadata": {
        "id": "W1DIboAgRphh",
        "colab_type": "code",
        "colab": {}
      },
      "cell_type": "code",
      "source": [
        "from sklearn import linear_model"
      ],
      "execution_count": 0,
      "outputs": []
    },
    {
      "metadata": {
        "id": "NEAxYpkfSV2d",
        "colab_type": "code",
        "colab": {}
      },
      "cell_type": "code",
      "source": [
        "lr = linear_model.LinearRegression()"
      ],
      "execution_count": 0,
      "outputs": []
    },
    {
      "metadata": {
        "id": "vvz6rsOaUxjY",
        "colab_type": "code",
        "colab": {
          "base_uri": "https://localhost:8080/",
          "height": 35
        },
        "outputId": "fb61307b-0add-41dd-9f19-6f509553174e"
      },
      "cell_type": "code",
      "source": [
        "lr.fit(x_train, y_train)"
      ],
      "execution_count": 58,
      "outputs": [
        {
          "output_type": "execute_result",
          "data": {
            "text/plain": [
              "LinearRegression(copy_X=True, fit_intercept=True, n_jobs=1, normalize=False)"
            ]
          },
          "metadata": {
            "tags": []
          },
          "execution_count": 58
        }
      ]
    },
    {
      "metadata": {
        "id": "HCo_ruzCVh3E",
        "colab_type": "code",
        "colab": {
          "base_uri": "https://localhost:8080/",
          "height": 197
        },
        "outputId": "092a86a9-4268-4b19-d348-217680eded99"
      },
      "cell_type": "code",
      "source": [
        "lr.predict(x_test[:5])"
      ],
      "execution_count": 63,
      "outputs": [
        {
          "output_type": "execute_result",
          "data": {
            "text/plain": [
              "array([[ 0.02770996,  0.00618298,  0.10599657,  0.10259679, -0.1159902 ,\n",
              "        -0.01106006, -0.01830345,  0.90483026, -0.08458398,  0.08052321],\n",
              "       [ 0.22320641, -0.22880441,  0.83245182,  0.09780189, -0.32992499,\n",
              "         0.19810845,  0.35895294, -0.03022792, -0.03165879, -0.08944242],\n",
              "       [ 0.04248971,  0.74501389,  0.04331953,  0.00679888,  0.07050311,\n",
              "         0.0449985 ,  0.03178257,  0.05719448, -0.0595306 ,  0.01892609],\n",
              "       [ 0.84072335,  0.00105318,  0.04784499, -0.04260717, -0.10381702,\n",
              "         0.04649468,  0.13272804,  0.16167381, -0.0288536 , -0.0578812 ],\n",
              "       [-0.01696701,  0.06665367,  0.13048889,  0.00608552,  0.58813382,\n",
              "         0.05001348,  0.01480041,  0.05139373,  0.0036184 ,  0.10502064]])"
            ]
          },
          "metadata": {
            "tags": []
          },
          "execution_count": 63
        }
      ]
    },
    {
      "metadata": {
        "id": "kDhGTBkdVxQW",
        "colab_type": "code",
        "colab": {
          "base_uri": "https://localhost:8080/",
          "height": 107
        },
        "outputId": "b9383a57-b774-424d-9a71-738f0cbbd6c4"
      },
      "cell_type": "code",
      "source": [
        "print(y_test[:5])"
      ],
      "execution_count": 64,
      "outputs": [
        {
          "output_type": "stream",
          "text": [
            "[[0. 0. 0. 0. 0. 0. 0. 1. 0. 0.]\n",
            " [0. 0. 1. 0. 0. 0. 0. 0. 0. 0.]\n",
            " [0. 1. 0. 0. 0. 0. 0. 0. 0. 0.]\n",
            " [1. 0. 0. 0. 0. 0. 0. 0. 0. 0.]\n",
            " [0. 0. 0. 0. 1. 0. 0. 0. 0. 0.]]\n"
          ],
          "name": "stdout"
        }
      ]
    },
    {
      "metadata": {
        "id": "iSfkw1AKHMJn",
        "colab_type": "code",
        "colab": {
          "base_uri": "https://localhost:8080/",
          "height": 125
        },
        "outputId": "3d2f10de-57af-4f5a-edb8-652850f5803b"
      },
      "cell_type": "code",
      "source": [
        "from tensorflow.python.client import device_lib\n",
        "\n",
        "device_lib.list_local_devices()"
      ],
      "execution_count": 60,
      "outputs": [
        {
          "output_type": "execute_result",
          "data": {
            "text/plain": [
              "[name: \"/device:CPU:0\"\n",
              " device_type: \"CPU\"\n",
              " memory_limit: 268435456\n",
              " locality {\n",
              " }\n",
              " incarnation: 10942510111229447919]"
            ]
          },
          "metadata": {
            "tags": []
          },
          "execution_count": 60
        }
      ]
    },
    {
      "metadata": {
        "id": "6_Hvi8QzHN-q",
        "colab_type": "code",
        "colab": {}
      },
      "cell_type": "code",
      "source": [
        ""
      ],
      "execution_count": 0,
      "outputs": []
    }
  ]
}